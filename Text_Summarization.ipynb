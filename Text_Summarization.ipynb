{
  "nbformat": 4,
  "nbformat_minor": 0,
  "metadata": {
    "colab": {
      "name": "Text Summarization.ipynb",
      "provenance": []
    },
    "kernelspec": {
      "name": "python3",
      "display_name": "Python 3"
    },
    "language_info": {
      "name": "python"
    }
  },
  "cells": [
    {
      "cell_type": "code",
      "execution_count": null,
      "metadata": {
        "id": "lrTwBaW7H7qs"
      },
      "outputs": [],
      "source": [
        ""
      ]
    },
    {
      "cell_type": "markdown",
      "source": [
        "### Text Summarization\n",
        "\n",
        "Text Cleaning<br>\n",
        "Sentence Tokenizatiob<br>\n",
        "Word Tokenization<br>\n",
        "Word-frequency table<br>\n",
        "Summarization"
      ],
      "metadata": {
        "id": "ORuHJwxCH_RS"
      }
    },
    {
      "cell_type": "code",
      "source": [
        "text = \"\"\"\n",
        "There are broadly two types of extractive summarization tasks depending on what the summarization program focuses on. The first is generic summarization, which focuses on obtaining a generic summary or abstract of the collection (whether documents, or sets of images, or videos, news stories etc.). The second is query relevant summarization, sometimes called query-based summarization, which summarizes objects specific to a query. Summarization systems are able to create both query relevant text summaries and generic machine-generated summaries depending on what the user needs.\n",
        "\n",
        "An example of a summarization problem is document summarization, which attempts to automatically produce an abstract from a given document. Sometimes one might be interested in generating a summary from a single source document, while others can use multiple source documents (for example, a cluster of articles on the same topic). This problem is called multi-document summarization. A related application is summarizing news articles. Imagine a system, which automatically pulls together news articles on a given topic (from the web), and concisely represents the latest news as a summary.\n",
        "\n",
        "Image collection summarization is another application example of automatic summarization. It consists in selecting a representative set of images from a larger set of images.[9] A summary in this context is useful to show the most representative images of results in an image collection exploration system. Video summarization is a related domain, where the system automatically creates a trailer of a long video. This also has applications in consumer or personal videos, where one might want to skip the boring or repetitive actions. Similarly, in surveillance videos, one would want to extract important and suspicious activity, while ignoring all the boring and redundant frames captured.\n",
        "\n",
        "At a very high level, summarization algorithms try to find subsets of objects (like set of sentences, or a set of images), which cover information of the entire set. This is also called the core-set. These algorithms model notions like diversity, coverage, information and representativeness of the summary. Query based summarization techniques, additionally model for relevance of the summary with the query. Some techniques and algorithms which naturally model summarization problems are TextRank and PageRank, Submodular set function, Determinantal point process, maximal marginal relevance (MMR) etc.\n",
        "\n",
        "Keyphrase extraction\"\"\"\n"
      ],
      "metadata": {
        "id": "-RiUs-uDIAPz"
      },
      "execution_count": 1,
      "outputs": []
    },
    {
      "cell_type": "code",
      "source": [
        "import spacy\n",
        "from spacy.lang.en.stop_words import STOP_WORDS\n",
        "from string import punctuation"
      ],
      "metadata": {
        "id": "yAoPOwiGIEcc"
      },
      "execution_count": 2,
      "outputs": []
    },
    {
      "cell_type": "code",
      "source": [
        "stopwords = list(STOP_WORDS)\n",
        "stopwords"
      ],
      "metadata": {
        "colab": {
          "base_uri": "https://localhost:8080/"
        },
        "id": "Jp2ycQ0JIIVq",
        "outputId": "a4723a6b-141b-43ad-9296-fc5d359101a6"
      },
      "execution_count": 3,
      "outputs": [
        {
          "output_type": "execute_result",
          "data": {
            "text/plain": [
              "['can',\n",
              " 'becomes',\n",
              " 'wherein',\n",
              " '‘s',\n",
              " 'their',\n",
              " 'three',\n",
              " 'those',\n",
              " '‘d',\n",
              " 'will',\n",
              " 'perhaps',\n",
              " 'anyhow',\n",
              " 'who',\n",
              " 'for',\n",
              " 'due',\n",
              " 'out',\n",
              " 'whatever',\n",
              " 'beside',\n",
              " 'without',\n",
              " 'yours',\n",
              " 'yet',\n",
              " 'during',\n",
              " 'when',\n",
              " 'hereby',\n",
              " 'became',\n",
              " 'whereas',\n",
              " 'how',\n",
              " 'very',\n",
              " 'nor',\n",
              " 'say',\n",
              " 'us',\n",
              " 'up',\n",
              " 'itself',\n",
              " 'other',\n",
              " 'thereupon',\n",
              " 'others',\n",
              " 'ours',\n",
              " 'themselves',\n",
              " 're',\n",
              " 'forty',\n",
              " 'no',\n",
              " 'being',\n",
              " 'ca',\n",
              " 'together',\n",
              " 'above',\n",
              " 'although',\n",
              " 'everyone',\n",
              " 'namely',\n",
              " 'ever',\n",
              " 'behind',\n",
              " 'using',\n",
              " 'our',\n",
              " 'along',\n",
              " 'be',\n",
              " 'become',\n",
              " 'been',\n",
              " '‘re',\n",
              " 'whence',\n",
              " 'has',\n",
              " 'have',\n",
              " 'well',\n",
              " 'five',\n",
              " 'side',\n",
              " 'go',\n",
              " 'at',\n",
              " 'per',\n",
              " 'whereafter',\n",
              " 'seeming',\n",
              " 'nine',\n",
              " 'under',\n",
              " 'herself',\n",
              " 'many',\n",
              " 'thereby',\n",
              " 'elsewhere',\n",
              " 'them',\n",
              " 'hereupon',\n",
              " '‘ll',\n",
              " 'thru',\n",
              " '’ve',\n",
              " 'mine',\n",
              " 'an',\n",
              " 'your',\n",
              " 'call',\n",
              " 'about',\n",
              " 'same',\n",
              " 'could',\n",
              " 'show',\n",
              " 'less',\n",
              " 'here',\n",
              " 'you',\n",
              " \"'d\",\n",
              " 'there',\n",
              " 'sometime',\n",
              " 'where',\n",
              " 'another',\n",
              " 'and',\n",
              " 'each',\n",
              " 'therein',\n",
              " 'seemed',\n",
              " 'throughout',\n",
              " 'n’t',\n",
              " 'with',\n",
              " 'was',\n",
              " 'get',\n",
              " 'my',\n",
              " 'former',\n",
              " 'whole',\n",
              " 'move',\n",
              " 'next',\n",
              " 'several',\n",
              " 'else',\n",
              " 'cannot',\n",
              " '’ll',\n",
              " 'am',\n",
              " 'fifteen',\n",
              " 'ten',\n",
              " 'were',\n",
              " 'if',\n",
              " 'not',\n",
              " 'moreover',\n",
              " 'until',\n",
              " 'do',\n",
              " 'everywhere',\n",
              " 'take',\n",
              " 'yourselves',\n",
              " 'these',\n",
              " 'twelve',\n",
              " 'she',\n",
              " 'himself',\n",
              " 'seem',\n",
              " 'made',\n",
              " 'whether',\n",
              " 'eight',\n",
              " 'somewhere',\n",
              " 'least',\n",
              " 'front',\n",
              " 'someone',\n",
              " 'again',\n",
              " 'almost',\n",
              " 'beyond',\n",
              " 'done',\n",
              " 'regarding',\n",
              " 'except',\n",
              " 'seems',\n",
              " 'own',\n",
              " 'thence',\n",
              " \"'m\",\n",
              " 'wherever',\n",
              " 'both',\n",
              " 'some',\n",
              " \"'ve\",\n",
              " 'below',\n",
              " 'now',\n",
              " 'toward',\n",
              " 'otherwise',\n",
              " 'too',\n",
              " 'then',\n",
              " 'only',\n",
              " 'i',\n",
              " 'whenever',\n",
              " 'also',\n",
              " 'please',\n",
              " 'nothing',\n",
              " 'though',\n",
              " 'twenty',\n",
              " 'any',\n",
              " 'because',\n",
              " 'this',\n",
              " 'becoming',\n",
              " 'quite',\n",
              " 'neither',\n",
              " 'keep',\n",
              " '‘ve',\n",
              " 'formerly',\n",
              " 'me',\n",
              " 'really',\n",
              " 'first',\n",
              " 'might',\n",
              " 'such',\n",
              " 'amount',\n",
              " 'doing',\n",
              " 'its',\n",
              " 'against',\n",
              " 'thus',\n",
              " 'he',\n",
              " \"'s\",\n",
              " '’re',\n",
              " 'before',\n",
              " 'nobody',\n",
              " 'afterwards',\n",
              " 'onto',\n",
              " '’d',\n",
              " 'does',\n",
              " 'always',\n",
              " 'put',\n",
              " 'may',\n",
              " 'often',\n",
              " 'indeed',\n",
              " 'serious',\n",
              " 'latterly',\n",
              " 'more',\n",
              " 'just',\n",
              " 'however',\n",
              " 'his',\n",
              " 'than',\n",
              " 'on',\n",
              " 'once',\n",
              " 'already',\n",
              " 'after',\n",
              " 'name',\n",
              " 'further',\n",
              " 'back',\n",
              " '’s',\n",
              " 'hereafter',\n",
              " 'something',\n",
              " 'amongst',\n",
              " 'enough',\n",
              " 'four',\n",
              " 'anyone',\n",
              " 'through',\n",
              " 'anything',\n",
              " 'which',\n",
              " 'sixty',\n",
              " 'hundred',\n",
              " 'since',\n",
              " 'third',\n",
              " 'whoever',\n",
              " 'n‘t',\n",
              " 'empty',\n",
              " 'is',\n",
              " \"'re\",\n",
              " 'nevertheless',\n",
              " 'bottom',\n",
              " 'across',\n",
              " 'the',\n",
              " 'over',\n",
              " 'mostly',\n",
              " 'myself',\n",
              " 'few',\n",
              " 'nowhere',\n",
              " 'noone',\n",
              " 'six',\n",
              " 'all',\n",
              " 'they',\n",
              " 'so',\n",
              " 'are',\n",
              " 'yourself',\n",
              " 'part',\n",
              " 'none',\n",
              " 'somehow',\n",
              " 'beforehand',\n",
              " 'but',\n",
              " 'see',\n",
              " 'by',\n",
              " 'among',\n",
              " 'unless',\n",
              " 'whose',\n",
              " 'top',\n",
              " 'two',\n",
              " 'alone',\n",
              " 'ourselves',\n",
              " 'from',\n",
              " 'via',\n",
              " 'thereafter',\n",
              " 'either',\n",
              " 'down',\n",
              " 'what',\n",
              " 'should',\n",
              " \"n't\",\n",
              " 'everything',\n",
              " 'still',\n",
              " 'fifty',\n",
              " 'towards',\n",
              " 'make',\n",
              " 'must',\n",
              " 'whither',\n",
              " 'various',\n",
              " 'anywhere',\n",
              " 'used',\n",
              " 'did',\n",
              " 'much',\n",
              " 'hence',\n",
              " 'her',\n",
              " \"'ll\",\n",
              " 'we',\n",
              " 'anyway',\n",
              " 'whereby',\n",
              " 'would',\n",
              " 'in',\n",
              " 'one',\n",
              " 'therefore',\n",
              " 'as',\n",
              " 'meanwhile',\n",
              " 'around',\n",
              " 'eleven',\n",
              " 'most',\n",
              " 'why',\n",
              " 'between',\n",
              " 'sometimes',\n",
              " 'even',\n",
              " '‘m',\n",
              " 'while',\n",
              " 'him',\n",
              " 'to',\n",
              " 'within',\n",
              " 'latter',\n",
              " '’m',\n",
              " 'never',\n",
              " 'it',\n",
              " 'whereupon',\n",
              " 'herein',\n",
              " 'had',\n",
              " 'give',\n",
              " 'off',\n",
              " 'or',\n",
              " 'that',\n",
              " 'every',\n",
              " 'rather',\n",
              " 'full',\n",
              " 'upon',\n",
              " 'a',\n",
              " 'besides',\n",
              " 'hers',\n",
              " 'of',\n",
              " 'last',\n",
              " 'whom',\n",
              " 'into']"
            ]
          },
          "metadata": {},
          "execution_count": 3
        }
      ]
    },
    {
      "cell_type": "code",
      "source": [
        "nlp = spacy.load('en_core_web_sm')"
      ],
      "metadata": {
        "id": "Y0P6B2RrIL4S"
      },
      "execution_count": 4,
      "outputs": []
    },
    {
      "cell_type": "code",
      "source": [
        "doc = nlp(text)"
      ],
      "metadata": {
        "id": "aOkhRvL6IQ-h"
      },
      "execution_count": 5,
      "outputs": []
    },
    {
      "cell_type": "code",
      "source": [
        "tokens = [token.text for token in doc]\n",
        "print(tokens)"
      ],
      "metadata": {
        "colab": {
          "base_uri": "https://localhost:8080/"
        },
        "id": "Wq8hWo2rIT8R",
        "outputId": "866494a2-8edd-4cb5-cdd1-bf6166b038a4"
      },
      "execution_count": 6,
      "outputs": [
        {
          "output_type": "stream",
          "name": "stdout",
          "text": [
            "['\\n', 'There', 'are', 'broadly', 'two', 'types', 'of', 'extractive', 'summarization', 'tasks', 'depending', 'on', 'what', 'the', 'summarization', 'program', 'focuses', 'on', '.', 'The', 'first', 'is', 'generic', 'summarization', ',', 'which', 'focuses', 'on', 'obtaining', 'a', 'generic', 'summary', 'or', 'abstract', 'of', 'the', 'collection', '(', 'whether', 'documents', ',', 'or', 'sets', 'of', 'images', ',', 'or', 'videos', ',', 'news', 'stories', 'etc', '.', ')', '.', 'The', 'second', 'is', 'query', 'relevant', 'summarization', ',', 'sometimes', 'called', 'query', '-', 'based', 'summarization', ',', 'which', 'summarizes', 'objects', 'specific', 'to', 'a', 'query', '.', 'Summarization', 'systems', 'are', 'able', 'to', 'create', 'both', 'query', 'relevant', 'text', 'summaries', 'and', 'generic', 'machine', '-', 'generated', 'summaries', 'depending', 'on', 'what', 'the', 'user', 'needs', '.', '\\n\\n', 'An', 'example', 'of', 'a', 'summarization', 'problem', 'is', 'document', 'summarization', ',', 'which', 'attempts', 'to', 'automatically', 'produce', 'an', 'abstract', 'from', 'a', 'given', 'document', '.', 'Sometimes', 'one', 'might', 'be', 'interested', 'in', 'generating', 'a', 'summary', 'from', 'a', 'single', 'source', 'document', ',', 'while', 'others', 'can', 'use', 'multiple', 'source', 'documents', '(', 'for', 'example', ',', 'a', 'cluster', 'of', 'articles', 'on', 'the', 'same', 'topic', ')', '.', 'This', 'problem', 'is', 'called', 'multi', '-', 'document', 'summarization', '.', 'A', 'related', 'application', 'is', 'summarizing', 'news', 'articles', '.', 'Imagine', 'a', 'system', ',', 'which', 'automatically', 'pulls', 'together', 'news', 'articles', 'on', 'a', 'given', 'topic', '(', 'from', 'the', 'web', ')', ',', 'and', 'concisely', 'represents', 'the', 'latest', 'news', 'as', 'a', 'summary', '.', '\\n\\n', 'Image', 'collection', 'summarization', 'is', 'another', 'application', 'example', 'of', 'automatic', 'summarization', '.', 'It', 'consists', 'in', 'selecting', 'a', 'representative', 'set', 'of', 'images', 'from', 'a', 'larger', 'set', 'of', 'images.[9', ']', 'A', 'summary', 'in', 'this', 'context', 'is', 'useful', 'to', 'show', 'the', 'most', 'representative', 'images', 'of', 'results', 'in', 'an', 'image', 'collection', 'exploration', 'system', '.', 'Video', 'summarization', 'is', 'a', 'related', 'domain', ',', 'where', 'the', 'system', 'automatically', 'creates', 'a', 'trailer', 'of', 'a', 'long', 'video', '.', 'This', 'also', 'has', 'applications', 'in', 'consumer', 'or', 'personal', 'videos', ',', 'where', 'one', 'might', 'want', 'to', 'skip', 'the', 'boring', 'or', 'repetitive', 'actions', '.', 'Similarly', ',', 'in', 'surveillance', 'videos', ',', 'one', 'would', 'want', 'to', 'extract', 'important', 'and', 'suspicious', 'activity', ',', 'while', 'ignoring', 'all', 'the', 'boring', 'and', 'redundant', 'frames', 'captured', '.', '\\n\\n', 'At', 'a', 'very', 'high', 'level', ',', 'summarization', 'algorithms', 'try', 'to', 'find', 'subsets', 'of', 'objects', '(', 'like', 'set', 'of', 'sentences', ',', 'or', 'a', 'set', 'of', 'images', ')', ',', 'which', 'cover', 'information', 'of', 'the', 'entire', 'set', '.', 'This', 'is', 'also', 'called', 'the', 'core', '-', 'set', '.', 'These', 'algorithms', 'model', 'notions', 'like', 'diversity', ',', 'coverage', ',', 'information', 'and', 'representativeness', 'of', 'the', 'summary', '.', 'Query', 'based', 'summarization', 'techniques', ',', 'additionally', 'model', 'for', 'relevance', 'of', 'the', 'summary', 'with', 'the', 'query', '.', 'Some', 'techniques', 'and', 'algorithms', 'which', 'naturally', 'model', 'summarization', 'problems', 'are', 'TextRank', 'and', 'PageRank', ',', 'Submodular', 'set', 'function', ',', 'Determinantal', 'point', 'process', ',', 'maximal', 'marginal', 'relevance', '(', 'MMR', ')', 'etc', '.', '\\n\\n', 'Keyphrase', 'extraction']\n"
          ]
        }
      ]
    },
    {
      "cell_type": "code",
      "source": [
        "punctuation"
      ],
      "metadata": {
        "colab": {
          "base_uri": "https://localhost:8080/",
          "height": 36
        },
        "id": "ZusFWKqKIWtN",
        "outputId": "5180d747-4d31-459b-e047-24c04c94ab38"
      },
      "execution_count": 7,
      "outputs": [
        {
          "output_type": "execute_result",
          "data": {
            "text/plain": [
              "'!\"#$%&\\'()*+,-./:;<=>?@[\\\\]^_`{|}~'"
            ],
            "application/vnd.google.colaboratory.intrinsic+json": {
              "type": "string"
            }
          },
          "metadata": {},
          "execution_count": 7
        }
      ]
    },
    {
      "cell_type": "code",
      "source": [
        "punctuation = punctuation + '\\n'\n",
        "punctuation"
      ],
      "metadata": {
        "colab": {
          "base_uri": "https://localhost:8080/",
          "height": 36
        },
        "id": "isG3JxXCIbsq",
        "outputId": "4aa18292-46cf-483f-ea49-d525385731e1"
      },
      "execution_count": 8,
      "outputs": [
        {
          "output_type": "execute_result",
          "data": {
            "text/plain": [
              "'!\"#$%&\\'()*+,-./:;<=>?@[\\\\]^_`{|}~\\n'"
            ],
            "application/vnd.google.colaboratory.intrinsic+json": {
              "type": "string"
            }
          },
          "metadata": {},
          "execution_count": 8
        }
      ]
    },
    {
      "cell_type": "code",
      "source": [
        "word_frequencies = {}\n",
        "for word in doc:\n",
        "    if word.text.lower() not in stopwords:\n",
        "        if word.text.lower() not in punctuation:\n",
        "            if word.text not in word_frequencies.keys():\n",
        "                word_frequencies[word.text] = 1\n",
        "            else:\n",
        "                word_frequencies[word.text] += 1"
      ],
      "metadata": {
        "id": "guqzG56VIfBa"
      },
      "execution_count": 9,
      "outputs": []
    },
    {
      "cell_type": "code",
      "source": [
        "print(word_frequencies)"
      ],
      "metadata": {
        "colab": {
          "base_uri": "https://localhost:8080/"
        },
        "id": "Jp2aNi-6IkD6",
        "outputId": "97bb76d2-d520-4e1e-de38-e3883a5e904c"
      },
      "execution_count": 11,
      "outputs": [
        {
          "output_type": "stream",
          "name": "stdout",
          "text": [
            "{'broadly': 1, 'types': 1, 'extractive': 1, 'summarization': 14, 'tasks': 1, 'depending': 2, 'program': 1, 'focuses': 2, 'generic': 3, 'obtaining': 1, 'summary': 6, 'abstract': 2, 'collection': 3, 'documents': 2, 'sets': 1, 'images': 4, 'videos': 3, 'news': 4, 'stories': 1, 'etc': 2, 'second': 1, 'query': 5, 'relevant': 2, 'called': 3, 'based': 2, 'summarizes': 1, 'objects': 2, 'specific': 1, 'Summarization': 1, 'systems': 1, 'able': 1, 'create': 1, 'text': 1, 'summaries': 2, 'machine': 1, 'generated': 1, 'user': 1, 'needs': 1, '\\n\\n': 4, 'example': 3, 'problem': 2, 'document': 4, 'attempts': 1, 'automatically': 3, 'produce': 1, 'given': 2, 'interested': 1, 'generating': 1, 'single': 1, 'source': 2, 'use': 1, 'multiple': 1, 'cluster': 1, 'articles': 3, 'topic': 2, 'multi': 1, 'related': 2, 'application': 2, 'summarizing': 1, 'Imagine': 1, 'system': 3, 'pulls': 1, 'web': 1, 'concisely': 1, 'represents': 1, 'latest': 1, 'Image': 1, 'automatic': 1, 'consists': 1, 'selecting': 1, 'representative': 2, 'set': 7, 'larger': 1, 'images.[9': 1, 'context': 1, 'useful': 1, 'results': 1, 'image': 1, 'exploration': 1, 'Video': 1, 'domain': 1, 'creates': 1, 'trailer': 1, 'long': 1, 'video': 1, 'applications': 1, 'consumer': 1, 'personal': 1, 'want': 2, 'skip': 1, 'boring': 2, 'repetitive': 1, 'actions': 1, 'Similarly': 1, 'surveillance': 1, 'extract': 1, 'important': 1, 'suspicious': 1, 'activity': 1, 'ignoring': 1, 'redundant': 1, 'frames': 1, 'captured': 1, 'high': 1, 'level': 1, 'algorithms': 3, 'try': 1, 'find': 1, 'subsets': 1, 'like': 2, 'sentences': 1, 'cover': 1, 'information': 2, 'entire': 1, 'core': 1, 'model': 3, 'notions': 1, 'diversity': 1, 'coverage': 1, 'representativeness': 1, 'Query': 1, 'techniques': 2, 'additionally': 1, 'relevance': 2, 'naturally': 1, 'problems': 1, 'TextRank': 1, 'PageRank': 1, 'Submodular': 1, 'function': 1, 'Determinantal': 1, 'point': 1, 'process': 1, 'maximal': 1, 'marginal': 1, 'MMR': 1, 'Keyphrase': 1, 'extraction': 1}\n"
          ]
        }
      ]
    },
    {
      "cell_type": "code",
      "source": [
        "max_frequency = max(word_frequencies.values())"
      ],
      "metadata": {
        "id": "v5uiICj8Iq-q"
      },
      "execution_count": 12,
      "outputs": []
    },
    {
      "cell_type": "code",
      "source": [
        "max_frequency"
      ],
      "metadata": {
        "colab": {
          "base_uri": "https://localhost:8080/"
        },
        "id": "St4QLGKHI8kB",
        "outputId": "b65c8a1c-b540-4b53-9523-30a8519c4558"
      },
      "execution_count": 13,
      "outputs": [
        {
          "output_type": "execute_result",
          "data": {
            "text/plain": [
              "14"
            ]
          },
          "metadata": {},
          "execution_count": 13
        }
      ]
    },
    {
      "cell_type": "code",
      "source": [
        "for word in word_frequencies.keys():\n",
        "  word_frequencies[word] = word_frequencies[word]/max_frequency"
      ],
      "metadata": {
        "id": "Hu9cBNbUI_DJ"
      },
      "execution_count": 14,
      "outputs": []
    },
    {
      "cell_type": "code",
      "source": [
        "print(word_frequencies)"
      ],
      "metadata": {
        "colab": {
          "base_uri": "https://localhost:8080/"
        },
        "id": "MSp25GGFJT6q",
        "outputId": "f8fd1c68-f7ce-4bb5-fce7-3c5cefbcc9e5"
      },
      "execution_count": 15,
      "outputs": [
        {
          "output_type": "stream",
          "name": "stdout",
          "text": [
            "{'broadly': 0.07142857142857142, 'types': 0.07142857142857142, 'extractive': 0.07142857142857142, 'summarization': 1.0, 'tasks': 0.07142857142857142, 'depending': 0.14285714285714285, 'program': 0.07142857142857142, 'focuses': 0.14285714285714285, 'generic': 0.21428571428571427, 'obtaining': 0.07142857142857142, 'summary': 0.42857142857142855, 'abstract': 0.14285714285714285, 'collection': 0.21428571428571427, 'documents': 0.14285714285714285, 'sets': 0.07142857142857142, 'images': 0.2857142857142857, 'videos': 0.21428571428571427, 'news': 0.2857142857142857, 'stories': 0.07142857142857142, 'etc': 0.14285714285714285, 'second': 0.07142857142857142, 'query': 0.35714285714285715, 'relevant': 0.14285714285714285, 'called': 0.21428571428571427, 'based': 0.14285714285714285, 'summarizes': 0.07142857142857142, 'objects': 0.14285714285714285, 'specific': 0.07142857142857142, 'Summarization': 0.07142857142857142, 'systems': 0.07142857142857142, 'able': 0.07142857142857142, 'create': 0.07142857142857142, 'text': 0.07142857142857142, 'summaries': 0.14285714285714285, 'machine': 0.07142857142857142, 'generated': 0.07142857142857142, 'user': 0.07142857142857142, 'needs': 0.07142857142857142, '\\n\\n': 0.2857142857142857, 'example': 0.21428571428571427, 'problem': 0.14285714285714285, 'document': 0.2857142857142857, 'attempts': 0.07142857142857142, 'automatically': 0.21428571428571427, 'produce': 0.07142857142857142, 'given': 0.14285714285714285, 'interested': 0.07142857142857142, 'generating': 0.07142857142857142, 'single': 0.07142857142857142, 'source': 0.14285714285714285, 'use': 0.07142857142857142, 'multiple': 0.07142857142857142, 'cluster': 0.07142857142857142, 'articles': 0.21428571428571427, 'topic': 0.14285714285714285, 'multi': 0.07142857142857142, 'related': 0.14285714285714285, 'application': 0.14285714285714285, 'summarizing': 0.07142857142857142, 'Imagine': 0.07142857142857142, 'system': 0.21428571428571427, 'pulls': 0.07142857142857142, 'web': 0.07142857142857142, 'concisely': 0.07142857142857142, 'represents': 0.07142857142857142, 'latest': 0.07142857142857142, 'Image': 0.07142857142857142, 'automatic': 0.07142857142857142, 'consists': 0.07142857142857142, 'selecting': 0.07142857142857142, 'representative': 0.14285714285714285, 'set': 0.5, 'larger': 0.07142857142857142, 'images.[9': 0.07142857142857142, 'context': 0.07142857142857142, 'useful': 0.07142857142857142, 'results': 0.07142857142857142, 'image': 0.07142857142857142, 'exploration': 0.07142857142857142, 'Video': 0.07142857142857142, 'domain': 0.07142857142857142, 'creates': 0.07142857142857142, 'trailer': 0.07142857142857142, 'long': 0.07142857142857142, 'video': 0.07142857142857142, 'applications': 0.07142857142857142, 'consumer': 0.07142857142857142, 'personal': 0.07142857142857142, 'want': 0.14285714285714285, 'skip': 0.07142857142857142, 'boring': 0.14285714285714285, 'repetitive': 0.07142857142857142, 'actions': 0.07142857142857142, 'Similarly': 0.07142857142857142, 'surveillance': 0.07142857142857142, 'extract': 0.07142857142857142, 'important': 0.07142857142857142, 'suspicious': 0.07142857142857142, 'activity': 0.07142857142857142, 'ignoring': 0.07142857142857142, 'redundant': 0.07142857142857142, 'frames': 0.07142857142857142, 'captured': 0.07142857142857142, 'high': 0.07142857142857142, 'level': 0.07142857142857142, 'algorithms': 0.21428571428571427, 'try': 0.07142857142857142, 'find': 0.07142857142857142, 'subsets': 0.07142857142857142, 'like': 0.14285714285714285, 'sentences': 0.07142857142857142, 'cover': 0.07142857142857142, 'information': 0.14285714285714285, 'entire': 0.07142857142857142, 'core': 0.07142857142857142, 'model': 0.21428571428571427, 'notions': 0.07142857142857142, 'diversity': 0.07142857142857142, 'coverage': 0.07142857142857142, 'representativeness': 0.07142857142857142, 'Query': 0.07142857142857142, 'techniques': 0.14285714285714285, 'additionally': 0.07142857142857142, 'relevance': 0.14285714285714285, 'naturally': 0.07142857142857142, 'problems': 0.07142857142857142, 'TextRank': 0.07142857142857142, 'PageRank': 0.07142857142857142, 'Submodular': 0.07142857142857142, 'function': 0.07142857142857142, 'Determinantal': 0.07142857142857142, 'point': 0.07142857142857142, 'process': 0.07142857142857142, 'maximal': 0.07142857142857142, 'marginal': 0.07142857142857142, 'MMR': 0.07142857142857142, 'Keyphrase': 0.07142857142857142, 'extraction': 0.07142857142857142}\n"
          ]
        }
      ]
    },
    {
      "cell_type": "code",
      "source": [
        "sentence_tokens = [sent for sent in doc.sents]\n",
        "print(sentence_tokens)"
      ],
      "metadata": {
        "colab": {
          "base_uri": "https://localhost:8080/"
        },
        "id": "fxNxvJjSJZTR",
        "outputId": "4471ddd0-3a6a-4f9d-9186-1202baf71c2b"
      },
      "execution_count": 16,
      "outputs": [
        {
          "output_type": "stream",
          "name": "stdout",
          "text": [
            "[\n",
            ", There are broadly two types of extractive summarization tasks depending on what the summarization program focuses on., The first is generic summarization, which focuses on obtaining a generic summary or abstract of the collection (whether documents, or sets of images, or videos, news stories etc.)., The second is query relevant summarization, sometimes called query-based summarization, which summarizes objects specific to a query., Summarization systems are able to create both query relevant text summaries and generic machine-generated summaries depending on what the user needs.\n",
            "\n",
            ", An example of a summarization problem is document summarization, which attempts to automatically produce an abstract from a given document., Sometimes one might be interested in generating a summary from a single source document, while others can use multiple source documents (for example, a cluster of articles on the same topic)., This problem is called multi-document summarization., A related application is summarizing news articles., Imagine a system, which automatically pulls together news articles on a given topic (from the web), and concisely represents the latest news as a summary.\n",
            "\n",
            ", Image collection summarization is another application example of automatic summarization., It consists in selecting a representative set of images from a larger set of images.[9], A summary in this context is useful to show the most representative images of results in an image collection exploration system., Video summarization is a related domain, where the system automatically creates a trailer of a long video., This also has applications in consumer or personal videos, where one might want to skip the boring or repetitive actions., Similarly, in surveillance videos, one would want to extract important and suspicious activity, while ignoring all the boring and redundant frames captured., \n",
            "\n",
            ", At a very high level, summarization algorithms try to find subsets of objects (like set of sentences, or a set of images), which cover information of the entire set., This is also called the core-set., These algorithms model notions like diversity, coverage, information and representativeness of the summary., Query based summarization techniques, additionally model for relevance of the summary with the query., Some techniques and algorithms which naturally model summarization problems are TextRank and PageRank, Submodular set function, Determinantal point process, maximal marginal relevance (MMR) etc.\n",
            "\n",
            "Keyphrase extraction]\n"
          ]
        }
      ]
    },
    {
      "cell_type": "code",
      "source": [
        "sentence_scores = {}\n",
        "for sent in sentence_tokens:\n",
        "  for word in sent:\n",
        "    if word.text.lower() in word_frequencies.keys():\n",
        "      if sent not in sentence_scores.keys():\n",
        "        sentence_scores[sent] = word_frequencies[word.text.lower()]\n",
        "      else:\n",
        "        sentence_scores[sent] += word_frequencies[word.text.lower()]"
      ],
      "metadata": {
        "id": "MGnw3c8-JpOB"
      },
      "execution_count": 17,
      "outputs": []
    },
    {
      "cell_type": "code",
      "source": [
        "sentence_scores"
      ],
      "metadata": {
        "colab": {
          "base_uri": "https://localhost:8080/"
        },
        "id": "SkqWlwwmKwIR",
        "outputId": "2502b4fc-15aa-440c-b595-34edad5e2824"
      },
      "execution_count": 18,
      "outputs": [
        {
          "output_type": "execute_result",
          "data": {
            "text/plain": [
              "{There are broadly two types of extractive summarization tasks depending on what the summarization program focuses on.: 2.642857142857143,\n",
              " The first is generic summarization, which focuses on obtaining a generic summary or abstract of the collection (whether documents, or sets of images, or videos, news stories etc.).: 3.642857142857143,\n",
              " The second is query relevant summarization, sometimes called query-based summarization, which summarizes objects specific to a query.: 3.928571428571429,\n",
              " Summarization systems are able to create both query relevant text summaries and generic machine-generated summaries depending on what the user needs.\n",
              " : 3.0000000000000004,\n",
              " An example of a summarization problem is document summarization, which attempts to automatically produce an abstract from a given document.: 3.5714285714285716,\n",
              " Sometimes one might be interested in generating a summary from a single source document, while others can use multiple source documents (for example, a cluster of articles on the same topic).: 2.1428571428571423,\n",
              " This problem is called multi-document summarization.: 1.7142857142857142,\n",
              " A related application is summarizing news articles.: 0.8571428571428571,\n",
              " Imagine a system, which automatically pulls together news articles on a given topic (from the web), and concisely represents the latest news as a summary.\n",
              " : 2.5714285714285707,\n",
              " Image collection summarization is another application example of automatic summarization.: 2.714285714285714,\n",
              " It consists in selecting a representative set of images from a larger set of images.[9]: 1.7142857142857142,\n",
              " A summary in this context is useful to show the most representative images of results in an image collection exploration system.: 1.6428571428571426,\n",
              " Video summarization is a related domain, where the system automatically creates a trailer of a long video.: 1.9999999999999996,\n",
              " This also has applications in consumer or personal videos, where one might want to skip the boring or repetitive actions.: 0.9285714285714284,\n",
              " Similarly, in surveillance videos, one would want to extract important and suspicious activity, while ignoring all the boring and redundant frames captured.: 1.1428571428571426,\n",
              " \n",
              " : 0.2857142857142857,\n",
              " At a very high level, summarization algorithms try to find subsets of objects (like set of sentences, or a set of images), which cover information of the entire set.: 4.0,\n",
              " This is also called the core-set.: 0.7857142857142857,\n",
              " These algorithms model notions like diversity, coverage, information and representativeness of the summary.: 1.4285714285714284,\n",
              " Query based summarization techniques, additionally model for relevance of the summary with the query.: 2.8571428571428568,\n",
              " Some techniques and algorithms which naturally model summarization problems are TextRank and PageRank, Submodular set function, Determinantal point process, maximal marginal relevance (MMR) etc.\n",
              " \n",
              " Keyphrase extraction: 3.2142857142857153}"
            ]
          },
          "metadata": {},
          "execution_count": 18
        }
      ]
    },
    {
      "cell_type": "code",
      "source": [
        "from heapq import nlargest"
      ],
      "metadata": {
        "id": "mGx5sPqEKzfo"
      },
      "execution_count": 19,
      "outputs": []
    },
    {
      "cell_type": "code",
      "source": [
        "select_length = int(len(sentence_tokens)*0.3)\n",
        "select_length"
      ],
      "metadata": {
        "colab": {
          "base_uri": "https://localhost:8080/"
        },
        "id": "qtre71i_K77W",
        "outputId": "609b0722-73ce-4ba4-d983-58500d3bef4e"
      },
      "execution_count": 20,
      "outputs": [
        {
          "output_type": "execute_result",
          "data": {
            "text/plain": [
              "6"
            ]
          },
          "metadata": {},
          "execution_count": 20
        }
      ]
    },
    {
      "cell_type": "code",
      "source": [
        "summary = nlargest(select_length, sentence_scores, key = sentence_scores.get)"
      ],
      "metadata": {
        "id": "Yr6DoSveLI1N"
      },
      "execution_count": 21,
      "outputs": []
    },
    {
      "cell_type": "code",
      "source": [
        "summary"
      ],
      "metadata": {
        "colab": {
          "base_uri": "https://localhost:8080/"
        },
        "id": "qH_fXCM9LXbp",
        "outputId": "fe42aa1f-e174-4feb-c8fb-a2a7d935189b"
      },
      "execution_count": 22,
      "outputs": [
        {
          "output_type": "execute_result",
          "data": {
            "text/plain": [
              "[At a very high level, summarization algorithms try to find subsets of objects (like set of sentences, or a set of images), which cover information of the entire set.,\n",
              " The second is query relevant summarization, sometimes called query-based summarization, which summarizes objects specific to a query.,\n",
              " The first is generic summarization, which focuses on obtaining a generic summary or abstract of the collection (whether documents, or sets of images, or videos, news stories etc.).,\n",
              " An example of a summarization problem is document summarization, which attempts to automatically produce an abstract from a given document.,\n",
              " Some techniques and algorithms which naturally model summarization problems are TextRank and PageRank, Submodular set function, Determinantal point process, maximal marginal relevance (MMR) etc.\n",
              " \n",
              " Keyphrase extraction,\n",
              " Summarization systems are able to create both query relevant text summaries and generic machine-generated summaries depending on what the user needs.\n",
              " ]"
            ]
          },
          "metadata": {},
          "execution_count": 22
        }
      ]
    },
    {
      "cell_type": "code",
      "source": [
        "final_summary = [word.text for word in summary]"
      ],
      "metadata": {
        "id": "4EQwIV1eLY1q"
      },
      "execution_count": 23,
      "outputs": []
    },
    {
      "cell_type": "code",
      "source": [
        "summary = ' '.join(final_summary)"
      ],
      "metadata": {
        "id": "xZuhm1WdLr21"
      },
      "execution_count": 24,
      "outputs": []
    },
    {
      "cell_type": "code",
      "source": [
        "print(summary)"
      ],
      "metadata": {
        "colab": {
          "base_uri": "https://localhost:8080/"
        },
        "id": "trcm4HQ9LyoU",
        "outputId": "ff8517dd-e59b-4580-a622-bb65262f880d"
      },
      "execution_count": 26,
      "outputs": [
        {
          "output_type": "stream",
          "name": "stdout",
          "text": [
            "At a very high level, summarization algorithms try to find subsets of objects (like set of sentences, or a set of images), which cover information of the entire set. The second is query relevant summarization, sometimes called query-based summarization, which summarizes objects specific to a query. The first is generic summarization, which focuses on obtaining a generic summary or abstract of the collection (whether documents, or sets of images, or videos, news stories etc.). An example of a summarization problem is document summarization, which attempts to automatically produce an abstract from a given document. Some techniques and algorithms which naturally model summarization problems are TextRank and PageRank, Submodular set function, Determinantal point process, maximal marginal relevance (MMR) etc.\n",
            "\n",
            "Keyphrase extraction Summarization systems are able to create both query relevant text summaries and generic machine-generated summaries depending on what the user needs.\n",
            "\n",
            "\n"
          ]
        }
      ]
    },
    {
      "cell_type": "code",
      "source": [
        "len(summary)"
      ],
      "metadata": {
        "colab": {
          "base_uri": "https://localhost:8080/"
        },
        "id": "-eORY78gL2Ns",
        "outputId": "d4c8ca4c-ef53-4cd4-d878-57f2825922e1"
      },
      "execution_count": 27,
      "outputs": [
        {
          "output_type": "execute_result",
          "data": {
            "text/plain": [
              "989"
            ]
          },
          "metadata": {},
          "execution_count": 27
        }
      ]
    },
    {
      "cell_type": "code",
      "source": [
        "len(text)"
      ],
      "metadata": {
        "colab": {
          "base_uri": "https://localhost:8080/"
        },
        "id": "IzKe5vGRL_Rq",
        "outputId": "83e97633-c74a-4697-813e-d1414ce1cd7c"
      },
      "execution_count": 28,
      "outputs": [
        {
          "output_type": "execute_result",
          "data": {
            "text/plain": [
              "2498"
            ]
          },
          "metadata": {},
          "execution_count": 28
        }
      ]
    },
    {
      "cell_type": "code",
      "source": [
        ""
      ],
      "metadata": {
        "id": "TyrB7u7IMB6x"
      },
      "execution_count": null,
      "outputs": []
    }
  ]
}